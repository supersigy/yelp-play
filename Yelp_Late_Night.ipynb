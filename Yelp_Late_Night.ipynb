{
 "cells": [
  {
   "cell_type": "markdown",
   "id": "6b1d22cd",
   "metadata": {},
   "source": [
    "# Yelp analysis on sleepy thru lively towns in Mass based on last call in relation to population size"
   ]
  },
  {
   "cell_type": "code",
   "execution_count": null,
   "id": "f35a1c6a",
   "metadata": {},
   "outputs": [],
   "source": [
    "import pandas as pd\n",
    "import numpy as np\n",
    "from yelpapi import YelpAPI\n",
    "import json\n",
    "import time\n",
    "import math"
   ]
  },
  {
   "cell_type": "markdown",
   "id": "8c45a005",
   "metadata": {},
   "source": [
    "Set connection to Yelp API"
   ]
  },
  {
   "cell_type": "code",
   "execution_count": null,
   "id": "ee9c63c3",
   "metadata": {},
   "outputs": [],
   "source": [
    "client_id = '...'\n",
    "api_key = '...'\n",
    "yelp_api = YelpAPI(api_key, timeout_s=3.0)"
   ]
  },
  {
   "cell_type": "markdown",
   "id": "51df3c67",
   "metadata": {},
   "source": [
    "Search bars and lounges for each city/town. "
   ]
  },
  {
   "cell_type": "code",
   "execution_count": null,
   "id": "c1f7a48b",
   "metadata": {},
   "outputs": [],
   "source": [
    "term = 'bars and lounges'\n",
    "search_limit = 10\n",
    "handled = []\n",
    "\n",
    "towns = pd.read_csv(r'C:\\Users\\super\\Documents\\Learning\\Yelp\\town_list.csv')\n",
    "town_list = towns['Town2']\n",
    "first = town_list.pop(0)\n",
    "response = yelp_api.search_query(term = term,\n",
    "                                 location = first,\n",
    "                                 limit = search_limit)\n",
    "cols = list(response['businesses'][0].keys())\n",
    "data = pd.DataFrame(columns=cols)\n",
    "for biz in response['businesses']:\n",
    "        data = data.append(biz, ignore_index=True)\n",
    "        \n",
    "for t in town_list:\n",
    "    time.sleep(1)\n",
    "    response = yelp_api.search_query(term = term,\n",
    "                                 location = t,\n",
    "                                 limit = search_limit)\n",
    "    handled.append(t)\n",
    "    \n",
    "    for biz in response['businesses']:\n",
    "        data = data.append(biz, ignore_index=True)"
   ]
  },
  {
   "cell_type": "markdown",
   "id": "061c08a5",
   "metadata": {},
   "source": [
    "Deduplify and make N API calls to retrieve hours of operation for each business"
   ]
  },
  {
   "cell_type": "code",
   "execution_count": null,
   "id": "006c1ffe",
   "metadata": {},
   "outputs": [],
   "source": [
    "master = data.drop_duplicates(subset=['id'])\n",
    "id_list = master['id'].to_list()\n",
    "closing_times = []\n",
    "handled = 0\n",
    "\n",
    "while handled < len(id_list):\n",
    "    time.sleep(0.5)\n",
    "    bid = id_list[handled]\n",
    "    bar = yelp_api.business_query(bid)\n",
    "    if 'hours' in bar.keys():\n",
    "        hours = json.dumps(bar['hours'])\n",
    "        hour = hours[hours.find(r'\", \"day\": 6')-4:hours.find(r'\", \"day\": 6')]\n",
    "    else: hour = 'NA'\n",
    "    handled += 1\n",
    "    closing_times.append(hour)"
   ]
  },
  {
   "cell_type": "markdown",
   "id": "e67a7994",
   "metadata": {},
   "source": [
    "Create class for how late open til where 2 AM = 0, 1 AM = 1 ... 8 PM = 6"
   ]
  },
  {
   "cell_type": "code",
   "execution_count": null,
   "id": "52ce78c0",
   "metadata": {},
   "outputs": [],
   "source": [
    "dic = {'id' : id_list, 'close': closing_times}\n",
    "close_times = pd.DataFrame(dic)\n",
    "\n",
    "condition = [(close_times['close']=='2000'),(close_times['close']=='2100'),(close_times['close']=='2200'), \n",
    "             (close_times['close']=='2300'), (close_times['close']=='0000'), (close_times['close']=='0100'),\n",
    "             (close_times['close']=='0200'), (close_times['close']=='2030'),(close_times['close']=='2130'),(close_times['close']=='2200'), \n",
    "             (close_times['close']=='2330'),(close_times['close']=='0030'), (close_times['close']=='0130'),\n",
    "             (close_times['close']=='lse}'),(close_times['close']=='NA')]\n",
    "values = [6,5,4,3,2,1,0,5.5,4.5,3.5,2.5,1.5,0.5,99,99]\n",
    "\n",
    "close_times['close_class'] = np.select(condition, values, default=99)\n",
    "close_times = close_times[close_times.close_class != 99]"
   ]
  },
  {
   "cell_type": "markdown",
   "id": "2c0c9b80",
   "metadata": {},
   "source": [
    "Retrieve business city from address string"
   ]
  },
  {
   "cell_type": "code",
   "execution_count": null,
   "id": "4b905b17",
   "metadata": {},
   "outputs": [],
   "source": [
    "def extract_city(s):\n",
    "    s = s[s.find(\"'city': \")+9:len(s)]\n",
    "    s = s[0:s.find(\"'\")]\n",
    "    return s\n",
    "\n",
    "master['town'] = master['location'].apply(extract_city)"
   ]
  },
  {
   "cell_type": "markdown",
   "id": "a8d51245",
   "metadata": {},
   "source": [
    "Merge business data with popultion data"
   ]
  },
  {
   "cell_type": "code",
   "execution_count": null,
   "id": "7166dcd0",
   "metadata": {},
   "outputs": [],
   "source": [
    "cols = {'id','name','town','rating','population','close_class'}\n",
    "towns = pd.read_csv(r'C:\\Users\\super\\Documents\\Learning\\Yelp\\town_list.csv')\n",
    "towns = towns.drop_duplicates(subset=['town'])\n",
    "final2 = master.merge(towns, how='left', on='town')\n",
    "final = final2.merge(close_times, how='left', on='id')\n",
    "final = final[cols]\n",
    "final['population'] = final['population'].str.replace(',','')\n",
    "final['population'] = pd.to_numeric(final['population'], errors='coerce')\n",
    "final = final.dropna(subset=['population'])"
   ]
  },
  {
   "cell_type": "markdown",
   "id": "1d2b03c9",
   "metadata": {},
   "source": [
    "Create a score using parameterized formula. Here: town with 100 people open til 2 AM = 1.0 with penalties for more people by factors of ten and last call before 2 AM."
   ]
  },
  {
   "cell_type": "code",
   "execution_count": null,
   "id": "0df071a7",
   "metadata": {},
   "outputs": [],
   "source": [
    "latest_by_town = final.loc[final.groupby('town').close_class.idxmin()].reset_index(drop=True)\n",
    "hour_lambda = 0.9\n",
    "pop_lambda = 0.92\n",
    "latest_by_town['late_score'] = hour_lambda**(latest_by_town['close_class']) * pop_lambda**(np.log10(latest_by_town['population'])-2)\n",
    "max_score = latest_by_town['late_score'].max()\n",
    "latest_by_town['late_final_score'] = 1-(max_score-latest_by_town['late_score'])\n",
    "latest_by_town"
   ]
  },
  {
   "attachments": {},
   "cell_type": "markdown",
   "id": "cac7880f",
   "metadata": {},
   "source": [
    "Results:\n",
    "\n",
    "Four sleepiest towns under current parameters are: Wilmington, Auburn, Bedford, Rehoboth\n",
    "All towns that shutter around 8 PM\n",
    "\n",
    "Four liveliest towns are: Templeton, Lee, Mendon, Becket\n",
    "\n",
    "Becket, MA is the livlest town with pours until 2 AM in a town with pop of 1,779!\n",
    "\n",
    "Play around with the visual dashboard here: https://public.tableau.com/app/profile/gabor.asztalos1520/viz/LastCallvsPopulation/Dashboard1?publish=yes"
   ]
  }
 ],
 "metadata": {
  "kernelspec": {
   "display_name": "Python 3",
   "language": "python",
   "name": "python3"
  },
  "language_info": {
   "codemirror_mode": {
    "name": "ipython",
    "version": 3
   },
   "file_extension": ".py",
   "mimetype": "text/x-python",
   "name": "python",
   "nbconvert_exporter": "python",
   "pygments_lexer": "ipython3",
   "version": "3.9.5"
  }
 },
 "nbformat": 4,
 "nbformat_minor": 5
}
